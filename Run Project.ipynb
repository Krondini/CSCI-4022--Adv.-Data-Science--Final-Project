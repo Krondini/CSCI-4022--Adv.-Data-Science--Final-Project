{
 "cells": [
  {
   "cell_type": "code",
   "execution_count": 1,
   "metadata": {},
   "outputs": [
    {
     "name": "stdout",
     "output_type": "stream",
     "text": [
      "Head of data set:\n",
      "   appid                       name release_date  english         developer  \\\n",
      "0     10             Counter-Strike   2000-11-01        1             Valve   \n",
      "1     20      Team Fortress Classic   1999-04-01        1             Valve   \n",
      "2     30              Day of Defeat   2003-05-01        1             Valve   \n",
      "3     40         Deathmatch Classic   2001-06-01        1             Valve   \n",
      "4     50  Half-Life: Opposing Force   1999-11-01        1  Gearbox Software   \n",
      "\n",
      "  publisher          platforms  required_age  \\\n",
      "0     Valve  windows;mac;linux             0   \n",
      "1     Valve  windows;mac;linux             0   \n",
      "2     Valve  windows;mac;linux             0   \n",
      "3     Valve  windows;mac;linux             0   \n",
      "4     Valve  windows;mac;linux             0   \n",
      "\n",
      "                                          categories  genres  \\\n",
      "0  Multi-player;Online Multi-Player;Local Multi-P...  Action   \n",
      "1  Multi-player;Online Multi-Player;Local Multi-P...  Action   \n",
      "2              Multi-player;Valve Anti-Cheat enabled  Action   \n",
      "3  Multi-player;Online Multi-Player;Local Multi-P...  Action   \n",
      "4  Single-player;Multi-player;Valve Anti-Cheat en...  Action   \n",
      "\n",
      "                  steamspy_tags  achievements  positive_ratings  \\\n",
      "0        Action;FPS;Multiplayer             0            124534   \n",
      "1        Action;FPS;Multiplayer             0              3318   \n",
      "2  FPS;World War II;Multiplayer             0              3416   \n",
      "3        Action;FPS;Multiplayer             0              1273   \n",
      "4             FPS;Action;Sci-fi             0              5250   \n",
      "\n",
      "   negative_ratings  average_playtime  median_playtime             owners  \\\n",
      "0              3339             17612              317  10000000-20000000   \n",
      "1               633               277               62   5000000-10000000   \n",
      "2               398               187               34   5000000-10000000   \n",
      "3               267               258              184   5000000-10000000   \n",
      "4               288               624              415   5000000-10000000   \n",
      "\n",
      "   price  \n",
      "0   7.19  \n",
      "1   3.99  \n",
      "2   3.99  \n",
      "3   3.99  \n",
      "4   3.99  \n",
      "\n",
      "\n",
      "{'appid': 730, 'playtime_forever': 37435, 'playtime_windows_forever': 6013, 'playtime_mac_forever': 0, 'playtime_linux_forever': 0}\n",
      "User: 'geck' has a total of: 269242.0 minutes of gaming on steam.\n",
      "This is equivalent to 4487.366666666667 total hours of gaming.\n",
      "186.97 days of playing.\n",
      "Or even 0.5123 years of playing... nerrrrrd!\n"
     ]
    }
   ],
   "source": [
    "import main\n",
    "main.main()"
   ]
  },
  {
   "cell_type": "code",
   "execution_count": null,
   "metadata": {},
   "outputs": [],
   "source": []
  }
 ],
 "metadata": {
  "kernelspec": {
   "display_name": "Python 3",
   "language": "python",
   "name": "python3"
  },
  "language_info": {
   "codemirror_mode": {
    "name": "ipython",
    "version": 3
   },
   "file_extension": ".py",
   "mimetype": "text/x-python",
   "name": "python",
   "nbconvert_exporter": "python",
   "pygments_lexer": "ipython3",
   "version": "3.7.6"
  }
 },
 "nbformat": 4,
 "nbformat_minor": 4
}
