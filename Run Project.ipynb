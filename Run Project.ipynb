{
 "cells": [
  {
   "cell_type": "code",
   "execution_count": 4,
   "metadata": {},
   "outputs": [
    {
     "name": "stdout",
     "output_type": "stream",
     "text": [
      "Please enter yourr Steam ID: 76561198145251409\n",
      "mikelovesdogs\n",
      "shock\n",
      "How many new games would you like to see: 10\n",
      "Based on your friends list, we recommend the following games:\n",
      "\t[Counter-Strike]\n",
      "\t[Zombie Panic! Source]\n",
      "\t[PLAYERUNKNOWN'S BATTLEGROUNDS]\n",
      "\t[Infestation: Survivor Stories 2020]\n",
      "\t[Killing Floor]\n",
      "\t[Infestation: The New Z]\n",
      "\t[Just Survive]\n",
      "\t[Call of Duty: Modern Warfare 2 - Multiplayer]\n",
      "\t[Call of Duty 4: Modern Warfare]\n",
      "\t[PGA TOUR 2K21]\n"
     ]
    }
   ],
   "source": [
    "import main\n",
    "main.main()"
   ]
  },
  {
   "cell_type": "code",
   "execution_count": null,
   "metadata": {},
   "outputs": [],
   "source": []
  }
 ],
 "metadata": {
  "kernelspec": {
   "display_name": "Python 3",
   "language": "python",
   "name": "python3"
  },
  "language_info": {
   "codemirror_mode": {
    "name": "ipython",
    "version": 3
   },
   "file_extension": ".py",
   "mimetype": "text/x-python",
   "name": "python",
   "nbconvert_exporter": "python",
   "pygments_lexer": "ipython3",
   "version": "3.7.6"
  }
 },
 "nbformat": 4,
 "nbformat_minor": 4
}
