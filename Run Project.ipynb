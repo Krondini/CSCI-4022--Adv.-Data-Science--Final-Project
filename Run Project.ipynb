{
 "cells": [
  {
   "cell_type": "code",
   "execution_count": 2,
   "metadata": {},
   "outputs": [
    {
     "name": "stdout",
     "output_type": "stream",
     "text": [
      "Please enter your Steam ID: 76561198272988632\n",
      "KonMan007\n",
      "Ben\n",
      "Lacky\n",
      "Andropov\n",
      "MilkMe\n",
      "minty bun-bun!♥\n",
      "¿?¿\n",
      "spicey\n",
      "𝐜 𝐚 𝐫 𝐥 ⋆ 𝟕𝟕\n",
      "l DogWater l commander l jax l\n",
      "CIVIC\n",
      "Little Bully\n",
      "benjie\n",
      "scrumptiousboiy\n",
      "Ktsuna\n",
      "Canada\n",
      "NinjaNic\n",
      "KonMan007\n",
      "How many new games would you like to see: 8\n",
      "Based on your friends list, we recommend the following games:\n",
      "\t[None]\n",
      "\t[None]\n",
      "\t[None]\n",
      "\t[None]\n",
      "\t[None]\n",
      "\t[None]\n",
      "\t[None]\n",
      "\t[None]\n"
     ]
    }
   ],
   "source": [
    "import main\n",
    "main.main()"
   ]
  },
  {
   "cell_type": "code",
   "execution_count": null,
   "metadata": {},
   "outputs": [],
   "source": []
  }
 ],
 "metadata": {
  "kernelspec": {
   "display_name": "Python 3",
   "language": "python",
   "name": "python3"
  },
  "language_info": {
   "codemirror_mode": {
    "name": "ipython",
    "version": 3
   },
   "file_extension": ".py",
   "mimetype": "text/x-python",
   "name": "python",
   "nbconvert_exporter": "python",
   "pygments_lexer": "ipython3",
   "version": "3.7.6"
  }
 },
 "nbformat": 4,
 "nbformat_minor": 4
}
